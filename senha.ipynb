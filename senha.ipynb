{
 "cells": [
  {
   "cell_type": "code",
   "execution_count": 1,
   "id": "8a3a039d",
   "metadata": {},
   "outputs": [],
   "source": [
    "import hashlib\n",
    "from getpass import getpass"
   ]
  },
  {
   "cell_type": "code",
   "execution_count": 35,
   "id": "6b764ad8",
   "metadata": {},
   "outputs": [],
   "source": [
    "def cadastro():\n",
    "    nome = input(\"Qual seu nome? \")\n",
    "    cfnome = input(\"por favor, confirme seu nome \")\n",
    "    senha = getpass(\"Qual sua senha? \")\n",
    "    cfsenha = getpass(\"por favor, confirme sua senha \")\n",
    "    \n",
    "    if nome == cfnome and senha == cfsenha:\n",
    "        with open(\"arquivonome.txt\", \"w\") as arquivonome:\n",
    "            arquivonome.write(nome + \"\\n\")\n",
    "        with open(\"arquivosenha.txt\", \"w\") as arquivosenha:\n",
    "            arquivosenha.write(senha)\n",
    "        print(\"Cadastro realizado com sucesso!\")\n",
    "    else:\n",
    "        print(\"Nome ou senha não compatíveis\")\n",
    "        return\n",
    "    \n",
    "def login():\n",
    "    nome = getpass(\"Digite seu nome: \")\n",
    "    senha = getpass(\"Digite sua senha: \")\n",
    "\n",
    "    with open(\"arquivonome.txt\", \"r\") as anome:\n",
    "        nome_armazenado = anome.read().strip()\n",
    "        if nome == nome_armazenado:\n",
    "            print(\"Nome confirmado\")\n",
    "        else:\n",
    "            print(\"Nome não corresponde ao cadastro\")\n",
    "            return\n",
    "\n",
    "    with open(\"arquivosenha.txt\", \"r\") as asenha:\n",
    "        senha_armazenada = asenha.read().strip()\n",
    "        if senha == senha_armazenada:\n",
    "            print(\"Senha confirmada\")\n",
    "            print(\"Login bem-sucedido!\")\n",
    "            print(\"Bem-vindo(a)!\")\n",
    "        else:\n",
    "            print(\"Senha não corresponde ao cadastro\")\n",
    "            return\n",
    "        \n"
   ]
  },
  {
   "cell_type": "code",
   "execution_count": null,
   "id": "be17f35c",
   "metadata": {},
   "outputs": [
    {
     "name": "stdout",
     "output_type": "stream",
     "text": [
      "Bem vindo ao sistema de login\n",
      "opção 1: Entrar opção 2: Criar cadastro opção 3: sair \n",
      "o que deseja? 2\n",
      "Qual seu nome? Lucy\n",
      "por favor, confirme seu nome Lucy\n",
      "Qual sua senha? ········\n",
      "por favor, confirme sua senha ········\n",
      "Cadastro realizado com sucesso!\n",
      "Bem vindo ao sistema de login\n",
      "opção 1: Entrar opção 2: Criar cadastro opção 3: sair \n",
      "o que deseja? 1\n",
      "Digite seu nome: ········\n",
      "Digite sua senha: ········\n",
      "Nome confirmado\n",
      "Senha confirmada\n",
      "Login bem-sucedido!\n",
      "Bem-vindo(a)!\n",
      "Bem vindo ao sistema de login\n",
      "opção 1: Entrar opção 2: Criar cadastro opção 3: sair \n"
     ]
    }
   ],
   "source": [
    "while 1:\n",
    "    print(\"Bem vindo ao sistema de login\")\n",
    "    print(\"opção 1: Entrar opção 2: Criar cadastro opção 3: sair \")\n",
    "    e = int(input(\"o que deseja? \"))\n",
    "    if e == 1:\n",
    "        login()\n",
    "    elif e == 2:\n",
    "        cadastro()\n",
    "    elif e == 3:\n",
    "        break\n",
    "    else:\n",
    "        print(\"opção inválida, tente de novo\")\n",
    "        break\n",
    "        "
   ]
  }
 ],
 "metadata": {
  "kernelspec": {
   "display_name": "Python 3 (ipykernel)",
   "language": "python",
   "name": "python3"
  },
  "language_info": {
   "codemirror_mode": {
    "name": "ipython",
    "version": 3
   },
   "file_extension": ".py",
   "mimetype": "text/x-python",
   "name": "python",
   "nbconvert_exporter": "python",
   "pygments_lexer": "ipython3",
   "version": "3.10.6"
  }
 },
 "nbformat": 4,
 "nbformat_minor": 5
}
